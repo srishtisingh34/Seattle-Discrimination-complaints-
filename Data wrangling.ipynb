{
 "cells": [
  {
   "cell_type": "code",
   "execution_count": 1,
   "metadata": {},
   "outputs": [],
   "source": [
    "import pandas as pd"
   ]
  },
  {
   "cell_type": "code",
   "execution_count": 2,
   "metadata": {},
   "outputs": [
    {
     "name": "stdout",
     "output_type": "stream",
     "text": [
      "     Year                       Type of Complaint    Month  Value\n",
      "0    2017         Total Complaints Filed by Month  January   10.0\n",
      "1    2017        City Employment Complaints Filed  January    0.0\n",
      "2    2017  Public Accommodations Complaints Filed  January    3.0\n",
      "3    2017                Housing Complaints Filed  January    4.0\n",
      "4    2017     Private Employment Complaints Filed  January    3.0\n",
      "..    ...                                     ...      ...    ...\n",
      "619  2024    Fair Chance Housing Complaints Filed    Total    0.0\n",
      "620  2024       Fair Contracting Complaints Filed    Total    0.0\n",
      "621  2024                Housing Complaints Filed    Total    1.0\n",
      "622  2024     Private Employment Complaints Filed    Total    2.0\n",
      "623  2024  Public Accommodations Complaints Filed    Total    0.0\n",
      "\n",
      "[624 rows x 4 columns]\n"
     ]
    }
   ],
   "source": [
    "df = pd.read_csv('Discrimination_Complaints_Filed_by_Month_and_Type__2017-Present_20240416.csv')\n",
    "\n",
    "# Melt the DataFrame to transpose the months into one column\n",
    "melted_df = pd.melt(df, id_vars=[\"Year\", \"Type of Complaint\"], var_name=\"Month\", value_name=\"Value\")\n",
    "\n",
    "# Display the transposed DataFrame\n",
    "print(melted_df)"
   ]
  },
  {
   "cell_type": "code",
   "execution_count": 3,
   "metadata": {},
   "outputs": [
    {
     "data": {
      "text/html": [
       "<div>\n",
       "<style scoped>\n",
       "    .dataframe tbody tr th:only-of-type {\n",
       "        vertical-align: middle;\n",
       "    }\n",
       "\n",
       "    .dataframe tbody tr th {\n",
       "        vertical-align: top;\n",
       "    }\n",
       "\n",
       "    .dataframe thead th {\n",
       "        text-align: right;\n",
       "    }\n",
       "</style>\n",
       "<table border=\"1\" class=\"dataframe\">\n",
       "  <thead>\n",
       "    <tr style=\"text-align: right;\">\n",
       "      <th></th>\n",
       "      <th>Year</th>\n",
       "      <th>Type of Complaint</th>\n",
       "      <th>Month</th>\n",
       "      <th>Value</th>\n",
       "    </tr>\n",
       "  </thead>\n",
       "  <tbody>\n",
       "    <tr>\n",
       "      <th>0</th>\n",
       "      <td>2017</td>\n",
       "      <td>Total Complaints Filed by Month</td>\n",
       "      <td>January</td>\n",
       "      <td>10.0</td>\n",
       "    </tr>\n",
       "    <tr>\n",
       "      <th>1</th>\n",
       "      <td>2017</td>\n",
       "      <td>City Employment Complaints Filed</td>\n",
       "      <td>January</td>\n",
       "      <td>0.0</td>\n",
       "    </tr>\n",
       "    <tr>\n",
       "      <th>2</th>\n",
       "      <td>2017</td>\n",
       "      <td>Public Accommodations Complaints Filed</td>\n",
       "      <td>January</td>\n",
       "      <td>3.0</td>\n",
       "    </tr>\n",
       "    <tr>\n",
       "      <th>3</th>\n",
       "      <td>2017</td>\n",
       "      <td>Housing Complaints Filed</td>\n",
       "      <td>January</td>\n",
       "      <td>4.0</td>\n",
       "    </tr>\n",
       "    <tr>\n",
       "      <th>4</th>\n",
       "      <td>2017</td>\n",
       "      <td>Private Employment Complaints Filed</td>\n",
       "      <td>January</td>\n",
       "      <td>3.0</td>\n",
       "    </tr>\n",
       "  </tbody>\n",
       "</table>\n",
       "</div>"
      ],
      "text/plain": [
       "   Year                       Type of Complaint    Month  Value\n",
       "0  2017         Total Complaints Filed by Month  January   10.0\n",
       "1  2017        City Employment Complaints Filed  January    0.0\n",
       "2  2017  Public Accommodations Complaints Filed  January    3.0\n",
       "3  2017                Housing Complaints Filed  January    4.0\n",
       "4  2017     Private Employment Complaints Filed  January    3.0"
      ]
     },
     "execution_count": 3,
     "metadata": {},
     "output_type": "execute_result"
    }
   ],
   "source": [
    "melted_df.head()"
   ]
  },
  {
   "cell_type": "code",
   "execution_count": 4,
   "metadata": {},
   "outputs": [],
   "source": [
    "df=melted_df.rename(columns={'Value': 'Complaints_count'})"
   ]
  },
  {
   "cell_type": "code",
   "execution_count": 5,
   "metadata": {},
   "outputs": [
    {
     "data": {
      "text/html": [
       "<div>\n",
       "<style scoped>\n",
       "    .dataframe tbody tr th:only-of-type {\n",
       "        vertical-align: middle;\n",
       "    }\n",
       "\n",
       "    .dataframe tbody tr th {\n",
       "        vertical-align: top;\n",
       "    }\n",
       "\n",
       "    .dataframe thead th {\n",
       "        text-align: right;\n",
       "    }\n",
       "</style>\n",
       "<table border=\"1\" class=\"dataframe\">\n",
       "  <thead>\n",
       "    <tr style=\"text-align: right;\">\n",
       "      <th></th>\n",
       "      <th>Year</th>\n",
       "      <th>Type of Complaint</th>\n",
       "      <th>Month</th>\n",
       "      <th>Complaints_count</th>\n",
       "    </tr>\n",
       "  </thead>\n",
       "  <tbody>\n",
       "    <tr>\n",
       "      <th>0</th>\n",
       "      <td>2017</td>\n",
       "      <td>Total Complaints Filed by Month</td>\n",
       "      <td>January</td>\n",
       "      <td>10.0</td>\n",
       "    </tr>\n",
       "    <tr>\n",
       "      <th>1</th>\n",
       "      <td>2017</td>\n",
       "      <td>City Employment Complaints Filed</td>\n",
       "      <td>January</td>\n",
       "      <td>0.0</td>\n",
       "    </tr>\n",
       "    <tr>\n",
       "      <th>2</th>\n",
       "      <td>2017</td>\n",
       "      <td>Public Accommodations Complaints Filed</td>\n",
       "      <td>January</td>\n",
       "      <td>3.0</td>\n",
       "    </tr>\n",
       "    <tr>\n",
       "      <th>3</th>\n",
       "      <td>2017</td>\n",
       "      <td>Housing Complaints Filed</td>\n",
       "      <td>January</td>\n",
       "      <td>4.0</td>\n",
       "    </tr>\n",
       "    <tr>\n",
       "      <th>4</th>\n",
       "      <td>2017</td>\n",
       "      <td>Private Employment Complaints Filed</td>\n",
       "      <td>January</td>\n",
       "      <td>3.0</td>\n",
       "    </tr>\n",
       "  </tbody>\n",
       "</table>\n",
       "</div>"
      ],
      "text/plain": [
       "   Year                       Type of Complaint    Month  Complaints_count\n",
       "0  2017         Total Complaints Filed by Month  January              10.0\n",
       "1  2017        City Employment Complaints Filed  January               0.0\n",
       "2  2017  Public Accommodations Complaints Filed  January               3.0\n",
       "3  2017                Housing Complaints Filed  January               4.0\n",
       "4  2017     Private Employment Complaints Filed  January               3.0"
      ]
     },
     "execution_count": 5,
     "metadata": {},
     "output_type": "execute_result"
    }
   ],
   "source": [
    "df.head()"
   ]
  },
  {
   "cell_type": "code",
   "execution_count": 6,
   "metadata": {},
   "outputs": [],
   "source": [
    "df.to_csv('Discrimination_in_Seattle.csv')"
   ]
  },
  {
   "cell_type": "code",
   "execution_count": null,
   "metadata": {},
   "outputs": [],
   "source": []
  }
 ],
 "metadata": {
  "kernelspec": {
   "display_name": "Python 3",
   "language": "python",
   "name": "python3"
  },
  "language_info": {
   "codemirror_mode": {
    "name": "ipython",
    "version": 3
   },
   "file_extension": ".py",
   "mimetype": "text/x-python",
   "name": "python",
   "nbconvert_exporter": "python",
   "pygments_lexer": "ipython3",
   "version": "3.8.5"
  }
 },
 "nbformat": 4,
 "nbformat_minor": 4
}
